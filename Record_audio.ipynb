{
 "cells": [
  {
   "cell_type": "code",
   "execution_count": 12,
   "id": "f2d2482d-f5b5-4d69-a09d-83cafd3487e4",
   "metadata": {},
   "outputs": [
    {
     "name": "stdout",
     "output_type": "stream",
     "text": [
      "WAKE\n",
      "Enregistrement en cours...\n",
      "Enregistrement terminé.\n",
      "Enregistrement en cours...\n",
      "Enregistrement terminé.\n",
      "Enregistrement en cours...\n",
      "Enregistrement terminé.\n",
      "Enregistrement en cours...\n",
      "Enregistrement terminé.\n",
      "Enregistrement en cours...\n",
      "Enregistrement terminé.\n",
      "Enregistrement en cours...\n",
      "Enregistrement terminé.\n",
      "Enregistrement en cours...\n",
      "Enregistrement terminé.\n",
      "Enregistrement en cours...\n",
      "Enregistrement terminé.\n",
      "Enregistrement en cours...\n",
      "Enregistrement terminé.\n",
      "Enregistrement en cours...\n",
      "Enregistrement terminé.\n"
     ]
    }
   ],
   "source": [
    "import sounddevice as sd\n",
    "import numpy as np\n",
    "import scipy.io.wavfile as wav\n",
    "\n",
    "def record_audio(filename, duration, samplerate=44100):\n",
    "    print(\"Enregistrement en cours...\")\n",
    "    recording = sd.rec(int(duration * samplerate), samplerate=samplerate, channels=1, dtype='int16')\n",
    "    sd.wait() \n",
    "    print(\"Enregistrement terminé.\")\n",
    "    wav.write(filename, samplerate, recording)  \n",
    "\n",
    "duration = 3  \n",
    "print(\"WAKE\")\n",
    "for i in range(10):\n",
    "    filename = f\"wake_{i+10}.wav\"\n",
    "    record_audio(filename, duration)\n",
    "print(\"NON WAKE\")\n",
    "for i in range(10):\n",
    "    filename = f\"non_wake_{i+10}.wav\"\n",
    "    record_audio(filename, duration)\n"
   ]
  },
  {
   "cell_type": "code",
   "execution_count": null,
   "id": "7cbbf728-aae2-45ad-bd4b-6ddd0f9fbcc6",
   "metadata": {},
   "outputs": [],
   "source": []
  },
  {
   "cell_type": "code",
   "execution_count": null,
   "id": "4193a0ca-df7e-4a2d-ae52-2540b3f2993e",
   "metadata": {},
   "outputs": [],
   "source": []
  }
 ],
 "metadata": {
  "kernelspec": {
   "display_name": "Python [conda env:base] *",
   "language": "python",
   "name": "conda-base-py"
  },
  "language_info": {
   "codemirror_mode": {
    "name": "ipython",
    "version": 3
   },
   "file_extension": ".py",
   "mimetype": "text/x-python",
   "name": "python",
   "nbconvert_exporter": "python",
   "pygments_lexer": "ipython3",
   "version": "3.11.13"
  }
 },
 "nbformat": 4,
 "nbformat_minor": 5
}
